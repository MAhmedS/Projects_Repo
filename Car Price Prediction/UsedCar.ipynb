{
 "cells": [
  {
   "cell_type": "code",
   "execution_count": 112,
   "id": "554d4f65",
   "metadata": {},
   "outputs": [
    {
     "data": {
      "text/plain": [
       "['Used_Car.joblib']"
      ]
     },
     "execution_count": 112,
     "metadata": {},
     "output_type": "execute_result"
    }
   ],
   "source": [
    "# Imported necessary libraries\n",
    "import pandas as pd\n",
    "import numpy as np\n",
    "from sklearn.model_selection import train_test_split\n",
    "from sklearn.metrics import r2_score\n",
    "from sklearn.compose import ColumnTransformer\n",
    "from sklearn.preprocessing import OneHotEncoder \n",
    "from sklearn.compose import make_column_transformer \n",
    "from sklearn.pipeline import make_pipeline\n",
    "from sklearn.ensemble import RandomForestRegressor\n",
    "import joblib\n",
    "\n",
    "# Read the dataset in csv file\n",
    "used_car = pd.read_csv('used_cars_dataset.csv')\n",
    "\n",
    "# Dropped the column, created a new dataframe \"X\" which is to be predicted by the model.\n",
    "# The axis=1 argument indicates that the operation should be performed along the columns axis.\n",
    "X = used_car.drop(columns='Price', axis=1)\n",
    "y = used_car['Price']\n",
    "\n",
    "# Assigned the train and test values for input and output dataframes.\n",
    "X_train, X_test, y_train, y_test = train_test_split(X, y, test_size=0.15)\n",
    "\n",
    "# As our problem is regression based so after checking r2 scores,\n",
    "# The best alogorithm was choosed and created an object(model) of class \"RandomForestRegressor\"\n",
    "model = RandomForestRegressor()\n",
    "\n",
    "# Create a column transformer with OneHotEncoder for encoding categorial values.\n",
    "# When handle_unknown is set to 'ignore', the OneHotEncoder will not raise an error if it\n",
    "# encounters a previously unknown category during the transformation.\n",
    "# remainder = \"passthrough\" means that any columns not specified in the OneHotEncoder transformer will \n",
    "# be passed through without any transformation. \n",
    "column_trans = make_column_transformer(\n",
    "    (OneHotEncoder(handle_unknown='ignore'), [\"Brand\", \"Fuel\", \"Model\", \"Registered City\"]),\n",
    "    remainder='passthrough'\n",
    ")\n",
    "\n",
    "# Create a pipeline with column transformer and Random Forest regression model whose one-end will be\n",
    "# given encoded data through OneHotEncoder and trained model will be given thorough other end.\n",
    "pipe = make_pipeline(column_trans, model)\n",
    "\n",
    "# Fit (to recognize relationship between input and output dataframes) the pipeline\n",
    "# to the training data\n",
    "pipe.fit(X_train, y_train)\n",
    "\n",
    "# Dumped the trained model in the pipelined into a .joblib file\n",
    "joblib.dump(pipe,'Used_Car.joblib')\n"
   ]
  }
 ],
 "metadata": {
  "kernelspec": {
   "display_name": "Python 3 (ipykernel)",
   "language": "python",
   "name": "python3"
  },
  "language_info": {
   "codemirror_mode": {
    "name": "ipython",
    "version": 3
   },
   "file_extension": ".py",
   "mimetype": "text/x-python",
   "name": "python",
   "nbconvert_exporter": "python",
   "pygments_lexer": "ipython3",
   "version": "3.11.5"
  }
 },
 "nbformat": 4,
 "nbformat_minor": 5
}
